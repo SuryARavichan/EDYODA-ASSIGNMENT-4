{
  "nbformat": 4,
  "nbformat_minor": 0,
  "metadata": {
    "colab": {
      "provenance": [],
      "authorship_tag": "ABX9TyOhRsn23Rxo/A4cNcQyBVjo",
      "include_colab_link": true
    },
    "kernelspec": {
      "name": "python3",
      "display_name": "Python 3"
    },
    "language_info": {
      "name": "python"
    }
  },
  "cells": [
    {
      "cell_type": "markdown",
      "metadata": {
        "id": "view-in-github",
        "colab_type": "text"
      },
      "source": [
        "<a href=\"https://colab.research.google.com/github/SuryARavichan/EDYODA-ASSIGNMENT-4/blob/main/OOPS_ASSIGNMENT.ipynb\" target=\"_parent\"><img src=\"https://colab.research.google.com/assets/colab-badge.svg\" alt=\"Open In Colab\"/></a>"
      ]
    },
    {
      "cell_type": "markdown",
      "source": [
        "Challenge 1: Square Numbers and Return Their Sum\n",
        "\n",
        "🔴 In this challenge, you need to implement a method that squares passing variables and returns their sum.\n",
        "\n",
        "Problem statement: Implement a class Point that has three properties and a method. All these attributes (properties and methods) should be public. This problem can be broken down into two tasks:\n",
        "\n",
        "Task 1: 👉 Implement a constructor to initialize the values of three properties: x, y, and z.\n",
        "\n",
        "Task 2: 👉 Implement a method, sqSum(), in the Point class which squares x, y, and z and returns their sum.\n",
        "\n",
        "Sample properties 1, 3, 5\n",
        "\n",
        "Sample method output 35"
      ],
      "metadata": {
        "id": "vqpHwWk33qyo"
      }
    },
    {
      "cell_type": "code",
      "source": [
        "class Point:\n",
        "  def __init__(self,x,y,z):\n",
        "    self.x=x\n",
        "    self.y=y\n",
        "    self.z=z\n",
        "  \n",
        "  def Sqsum(self):\n",
        "    return self.x**2+self.y**2+self.z**2\n",
        "\n",
        "num=Point(1,3,5)\n",
        "print(num.Sqsum())\n",
        "\n"
      ],
      "metadata": {
        "colab": {
          "base_uri": "https://localhost:8080/"
        },
        "id": "ya0IzQlm3ran",
        "outputId": "a960771a-b0d5-479a-90fc-860ca11709bf"
      },
      "execution_count": 45,
      "outputs": [
        {
          "output_type": "stream",
          "name": "stdout",
          "text": [
            "35\n"
          ]
        }
      ]
    },
    {
      "cell_type": "markdown",
      "source": [
        "Challenge 2: Implement a Calculator Class\n",
        "\n",
        "🔴 In this exercise, you have to implement a calculator that can perform addition, subtraction, multiplication, and division.\n",
        "\n",
        "Problem statement Write a Python class called Calculator by completing the tasks below:"
      ],
      "metadata": {
        "id": "GFal5A2a6D6-"
      }
    },
    {
      "cell_type": "code",
      "source": [
        "class Calculator:\n",
        "  def __init__(self,a,b):\n",
        "    self.a = 10\n",
        "    self.b = 94\n",
        "  def addition(self):\n",
        "    return self.a + self.b\n",
        "  def subtraction(self):\n",
        "    return self.a - self.b\n",
        "  def multiplication(self):\n",
        "    return self.a * self.b\n",
        "  def division(self):\n",
        "    return self.a / self.b\n",
        "\n",
        "maths=Calculator(10,94)\n",
        "print(maths.addition())\n",
        "print(maths.subtraction())\n",
        "print(maths.multiplication())\n",
        "print(maths.division())"
      ],
      "metadata": {
        "colab": {
          "base_uri": "https://localhost:8080/"
        },
        "id": "PO6c3MZW5EA5",
        "outputId": "8ba52ba1-9c00-4ec2-9124-d3f9bba54943"
      },
      "execution_count": null,
      "outputs": [
        {
          "output_type": "stream",
          "name": "stdout",
          "text": [
            "104\n",
            "-84\n",
            "940\n",
            "0.10638297872340426\n"
          ]
        }
      ]
    },
    {
      "cell_type": "markdown",
      "source": [
        "Challenge 3: Implement the Complete Student Class\n",
        "\n",
        "🔴In this challenge, you will implement a student class"
      ],
      "metadata": {
        "id": "PihGW3Ov87sG"
      }
    },
    {
      "cell_type": "code",
      "source": [
        "class Student:\n",
        "  def setName(self,name):\n",
        "    self.name=name\n",
        "  def getName(self):\n",
        "    return self.name\n",
        "  def setRollNumber(self,rollnumber):\n",
        "    self.rollnumber=rollnumber\n",
        "  def getRollNumber(self):\n",
        "    return self.rollnumber"
      ],
      "metadata": {
        "id": "mz-qtb9A7xKI"
      },
      "execution_count": null,
      "outputs": []
    },
    {
      "cell_type": "code",
      "source": [
        "n=int(input('How Many Students '))\n",
        "i=0\n",
        "while (i<n):\n",
        "  s=Student()\n",
        "  name=input('Enter Your Name : ')\n",
        "  s.setName(name)\n",
        "  rollnumber=int(input('Enter Your Roll Rumber  : '))\n",
        "  s.setRollNumber(rollnumber)\n",
        "  print('Hi ',s.getName())\n",
        "  print('Your Roll Number is  ',s.getRollNumber())\n",
        "  i=i+1\n",
        "  print('----------------------')"
      ],
      "metadata": {
        "colab": {
          "base_uri": "https://localhost:8080/"
        },
        "id": "CSLR7DFKAk6E",
        "outputId": "450de1d0-5997-419f-ad5e-3cdedacd57fc"
      },
      "execution_count": null,
      "outputs": [
        {
          "output_type": "stream",
          "name": "stdout",
          "text": [
            "How Many Students 1\n",
            "Enter Your Name : Surya\n",
            "Enter Your Roll Rumber  : 156\n",
            "Hi  Surya\n",
            "Your Roll Number is   156\n",
            "----------------------\n"
          ]
        }
      ]
    },
    {
      "cell_type": "markdown",
      "source": [
        "Challenge 4: Implement a Banking Account\n",
        "\n",
        "🔴 In this challenge, you will implement a banking account using the concepts of inheritance"
      ],
      "metadata": {
        "id": "XfwpMIdmCmPr"
      }
    },
    {
      "cell_type": "code",
      "source": [
        "class Account:\n",
        "  def __init__(self,title,balance):\n",
        "    self.title=title\n",
        "    self.balance=balance\n",
        "\n",
        "class SavingsAccount(Account):\n",
        "  def __init__(self,title,balance,interest_rate):\n",
        "    super().__init__(title,balance)\n",
        "    self.interest_rate=interest_rate\n",
        "\n",
        "a=SavingsAccount('Ashish',5000,5)\n",
        "print(a.title)\n",
        "print(a.balance)\n",
        "print(a.interest_rate)\n",
        "\n",
        "\n"
      ],
      "metadata": {
        "id": "m6zZeEISBxDu",
        "colab": {
          "base_uri": "https://localhost:8080/"
        },
        "outputId": "76f5e6d2-7d73-491f-9a04-6302e957b0d3"
      },
      "execution_count": 59,
      "outputs": [
        {
          "output_type": "stream",
          "name": "stdout",
          "text": [
            "Ashish\n",
            "5000\n",
            "5\n"
          ]
        }
      ]
    },
    {
      "cell_type": "markdown",
      "source": [
        "Challenge 5: Handling a Bank Account\n",
        "\n",
        "🔴 In this challenge, you will define methods for handling a bank account using concepts of inheritance.\n",
        "\n",
        "Problem statement\n",
        "\n",
        "In this challenge, we will be extending the previous challenge and implementing methods in the parent class and its corresponding child class.\n",
        "\n",
        "The initializers for both classes have been defined for you.\n",
        "\n",
        "Task 1\n",
        "\n",
        "In the Account class, implement the getBalance() method that returns balance.\n",
        "\n",
        "Task 2\n",
        "\n",
        "In the Account class, implement the deposit(amount) method that adds amount to the balance.\n",
        "\n",
        "It does not return anything."
      ],
      "metadata": {
        "id": "Y7aRm_njJpCR"
      }
    },
    {
      "cell_type": "code",
      "source": [
        "\n",
        "class Account:\n",
        "    def __init__(self, balance):\n",
        "        self.balance = balance\n",
        "\n",
        "    def getBalance(self):\n",
        "        return self.balance\n",
        "\n",
        "    def deposit(self, amount):\n",
        "        self.balance += amount\n",
        "\n",
        "    def withdrawal(self, amount):\n",
        "        self.balance -= amount\n",
        "\n",
        "class SavingsAccount(Account):\n",
        "    def __init__(self, balance, interest_rate):\n",
        "        super().__init__(balance)\n",
        "        self.interest_rate = interest_rate\n",
        "\n",
        "    def interestAmount(self):\n",
        "        return self.balance * self.interest_rate / 100\n",
        "\n",
        "a = SavingsAccount(2000, 5)\n",
        "print(a.getBalance()) \n",
        "a.deposit(500)\n",
        "print(a.getBalance()) \n",
        "a.withdrawal(500)\n",
        "print(a.getBalance()) \n",
        "print(a.interestAmount()) "
      ],
      "metadata": {
        "colab": {
          "base_uri": "https://localhost:8080/"
        },
        "id": "aiEvqnY8aha4",
        "outputId": "4167231e-e961-4fcb-f375-fde8ff3acb92"
      },
      "execution_count": 50,
      "outputs": [
        {
          "output_type": "stream",
          "name": "stdout",
          "text": [
            "2000\n",
            "2500\n",
            "2000\n",
            "100.0\n"
          ]
        }
      ]
    },
    {
      "cell_type": "code",
      "source": [
        "a = SavingsAccount(2000, 5)\n",
        "balance=2000\n",
        "a.deposit(500)\n",
        "print(a.getBalance())"
      ],
      "metadata": {
        "colab": {
          "base_uri": "https://localhost:8080/"
        },
        "id": "Xn4VWg3Rbicn",
        "outputId": "58f108d6-0f0f-4832-ed70-fae23bdfba8c"
      },
      "execution_count": 52,
      "outputs": [
        {
          "output_type": "stream",
          "name": "stdout",
          "text": [
            "2500\n"
          ]
        }
      ]
    },
    {
      "cell_type": "code",
      "source": [
        "a = SavingsAccount(2000, 5)\n",
        "balance=2000\n",
        "a.withdrawal(500)\n",
        "print(a.getBalance())"
      ],
      "metadata": {
        "colab": {
          "base_uri": "https://localhost:8080/"
        },
        "id": "NVd2MTVAb8T8",
        "outputId": "0e9d6ab5-66af-4f39-abaf-d5e7374e8f05"
      },
      "execution_count": 53,
      "outputs": [
        {
          "output_type": "stream",
          "name": "stdout",
          "text": [
            "1500\n"
          ]
        }
      ]
    },
    {
      "cell_type": "code",
      "source": [
        "a = SavingsAccount(2000, 5)\n",
        "balance=2000\n",
        "interest_rate=5\n",
        "print(a.interestAmount()) "
      ],
      "metadata": {
        "colab": {
          "base_uri": "https://localhost:8080/"
        },
        "id": "apwDCDpjcKNI",
        "outputId": "0a9cd702-0d54-4c8c-e356-32eef02e8741"
      },
      "execution_count": 57,
      "outputs": [
        {
          "output_type": "stream",
          "name": "stdout",
          "text": [
            "100.0\n"
          ]
        }
      ]
    }
  ]
}